{
 "cells": [
  {
   "cell_type": "code",
   "execution_count": 2,
   "metadata": {},
   "outputs": [],
   "source": [
    "# import necessary libraries\n",
    "import pandas as pd\n",
    "import spacy"
   ]
  },
  {
   "cell_type": "markdown",
   "metadata": {},
   "source": [
    "# Step 1: Read in dataset and structure it in a way that is beneficial for further processing."
   ]
  },
  {
   "cell_type": "code",
   "execution_count": 4,
   "metadata": {},
   "outputs": [
    {
     "data": {
      "text/html": "<div>\n<style scoped>\n    .dataframe tbody tr th:only-of-type {\n        vertical-align: middle;\n    }\n\n    .dataframe tbody tr th {\n        vertical-align: top;\n    }\n\n    .dataframe thead th {\n        text-align: right;\n    }\n</style>\n<table border=\"1\" class=\"dataframe\">\n  <thead>\n    <tr style=\"text-align: right;\">\n      <th></th>\n      <th>Report Grouping</th>\n      <th>Question Text</th>\n      <th>Comments</th>\n    </tr>\n  </thead>\n  <tbody>\n    <tr>\n      <th>0</th>\n      <td>Large Department</td>\n      <td>Please tell us what is working well.</td>\n      <td>we do what our customers need, we communicate ...</td>\n    </tr>\n    <tr>\n      <th>1</th>\n      <td>Large Department</td>\n      <td>Please tell us what is working well.</td>\n      <td>Customs business development continues to grow...</td>\n    </tr>\n    <tr>\n      <th>2</th>\n      <td>Large Department</td>\n      <td>Please tell us what is working well.</td>\n      <td>I think the team work hard, are committed to c...</td>\n    </tr>\n    <tr>\n      <th>3</th>\n      <td>Large Department</td>\n      <td>Please tell us what is working well.</td>\n      <td>Overall working towards a customer centric env...</td>\n    </tr>\n    <tr>\n      <th>4</th>\n      <td>Large Department</td>\n      <td>Please tell us what is working well.</td>\n      <td>Customer centricity is a growing culture in th...</td>\n    </tr>\n  </tbody>\n</table>\n</div>",
      "text/plain": "    Report Grouping                         Question Text  \\\n0  Large Department  Please tell us what is working well.   \n1  Large Department  Please tell us what is working well.   \n2  Large Department  Please tell us what is working well.   \n3  Large Department  Please tell us what is working well.   \n4  Large Department  Please tell us what is working well.   \n\n                                            Comments  \n0  we do what our customers need, we communicate ...  \n1  Customs business development continues to grow...  \n2  I think the team work hard, are committed to c...  \n3  Overall working towards a customer centric env...  \n4  Customer centricity is a growing culture in th...  "
     },
     "execution_count": 4,
     "metadata": {},
     "output_type": "execute_result"
    }
   ],
   "source": [
    "# read in data\n",
    "# currently reading in full dataset; small batch of data also available\n",
    "# path when running notebook via VS Code\n",
    "df = pd.read_csv(\"data/pnlp_data_en.csv\", sep=\";\")\n",
    "\n",
    "# path when running notebook via jupyter\n",
    "#df = pd.read_csv(\"../../data/pnlp_data_en.csv\", sep=\";\")\n",
    "df.head()"
   ]
  },
  {
   "cell_type": "code",
   "execution_count": 68,
   "metadata": {},
   "outputs": [],
   "source": [
    "# split up dataframe into individual sets to continue processing\n",
    "large_department = df[df['Report Grouping'] == 'Large Department']\n",
    "ld_q1 = large_department[large_department['Question Text'] == 'Please tell us what is working well.']\n",
    "ld_q2 = large_department[large_department['Question Text'] == 'Please tell us what needs to be improved.']\n",
    "\n",
    "small_department = df[df['Report Grouping'] == 'Small Department']\n",
    "sd_q1 = small_department[small_department['Question Text'] == 'Please tell us what is working well.']\n",
    "sd_q2 = small_department[small_department['Question Text'] == 'Please tell us what needs to be improved.']"
   ]
  },
  {
   "cell_type": "markdown",
   "metadata": {},
   "source": [
    "# Step 2: Extract features and enrich corresponding dataframes with them."
   ]
  },
  {
   "cell_type": "code",
   "execution_count": 6,
   "metadata": {},
   "outputs": [],
   "source": [
    "nlp = spacy.load(\"en_core_web_sm\")"
   ]
  },
  {
   "cell_type": "code",
   "execution_count": 83,
   "metadata": {},
   "outputs": [
    {
     "name": "stdout",
     "output_type": "stream",
     "text": "0       we do what our customers need, we communicate ...\n1       Customs business development continues to grow...\n2       I think the team work hard, are committed to c...\n3       Overall working towards a customer centric env...\n4       Customer centricity is a growing culture in th...\n                              ...                        \n8018    Nothing is working well. industry standards ar...\n8019    I think the additional training has been posit...\n8020    I believe we have a good core structure, despi...\n8021    People are gaining more confidence within thei...\n8022    i enjoy working with some of the team and can ...\nName: Comments, Length: 8023, dtype: object\n"
    }
   ],
   "source": [
    "print(ld_q1['Comments'])"
   ]
  },
  {
   "cell_type": "code",
   "execution_count": 84,
   "metadata": {},
   "outputs": [],
   "source": [
    "def pos_tag(df, verbose=False, limit=-1):\n",
    "    \"\"\"\n",
    "    Extracts POS tags for every answer (important: one answer may contain multiple sentences) in a given dataframe and returns them as a list of lists.\n",
    "    Note: Function is specified for df structure of complete dataset provided by deepsight. Index adjustments might be necessary on different dfs.\n",
    "\n",
    "    df: The dataframe containing the sentences to be tagged.\n",
    "    verbose: Should the function report progress? False by default.\n",
    "    limit: If only the first n sents should be tagged, give n as limit. Tags entire df by default.\n",
    "    \"\"\"\n",
    "    # list used to store the individual lists of POS tags\n",
    "    pos_tags = []\n",
    "\n",
    "    # running index used for limit and state updates\n",
    "    i = 0\n",
    "    # set variable encoding amount of total answers to tag\n",
    "    if limit == -1:\n",
    "        end = len(df.index)\n",
    "    else:\n",
    "        end = limit\n",
    "\n",
    "    # iterature over entire dataframe\n",
    "    for row in df.iterrows():\n",
    "        # list used to store POS tags of any given answer\n",
    "        temp = []\n",
    "        # iterate over given answer\n",
    "        # adjust here for different df structures!\n",
    "        for token in nlp(row[1][2]):\n",
    "            temp.append(token.pos_)\n",
    "        # add new tags to complete list of tags\n",
    "        pos_tags.append(temp)\n",
    "\n",
    "        # defines output of verbose run of function\n",
    "        if verbose:\n",
    "            print(\"Tagging answer\", i+1, \"of\", end+1)\n",
    "\n",
    "        # stops function when limit is reached \n",
    "        if limit != -1:\n",
    "            if i == limit: return(pos_tags)\n",
    "        \n",
    "        return(pos_tags)"
   ]
  },
  {
   "cell_type": "code",
   "execution_count": 82,
   "metadata": {},
   "outputs": [
    {
     "name": "stdout",
     "output_type": "stream",
     "text": "[['PRON', 'AUX', 'PRON', 'DET', 'NOUN', 'VERB', 'PUNCT', 'PRON', 'VERB', 'ADV', 'PUNCT'], ['PROPN', 'NOUN', 'NOUN', 'VERB', 'PART', 'VERB', 'CCONJ', 'VERB', 'PUNCT', 'ADP', 'DET', 'NOUN', 'ADP', 'DET', 'ADJ', 'PROPN', 'PROPN', 'CCONJ', 'DET', 'NOUN', 'ADP', 'NOUN', 'DET', 'AUX', 'ADP', 'NOUN', 'ADP', 'DET', 'NOUN'], ['PRON', 'VERB', 'DET', 'NOUN', 'VERB', 'ADV', 'PUNCT', 'AUX', 'VERB', 'ADP', 'ADJ', 'NOUN', 'CCONJ', 'VERB', 'DET', 'ADJ', 'NOUN', 'ADP', 'DET', 'NOUN', 'PUNCT'], ['ADV', 'VERB', 'ADP', 'DET', 'NOUN', 'ADJ', 'NOUN', 'AUX', 'VERB', 'ADV', 'CCONJ', 'ADV', 'ADJ', 'NOUN', 'ADP', 'DET', 'NOUN'], ['NOUN', 'NOUN', 'AUX', 'DET', 'VERB', 'NOUN', 'ADP', 'DET', 'NOUN', 'VERB', 'DET', 'ADV', 'ADJ', 'NOUN', 'NOUN'], ['DET', 'DET', 'ADJ', 'NOUN', 'ADP', 'NOUN', 'CCONJ', 'VERB', 'DET', 'NOUN', 'ADP', 'NOUN', 'CCONJ', 'NOUN', 'SPACE', 'NUM', 'NOUN', 'NOUN', 'ADP', 'NOUN', 'CCONJ', 'NOUN', 'PUNCT'], ['DET', 'NOUN', 'VERB', 'DET', 'NOUN', 'PUNCT'], ['PRON', 'AUX', 'ADV', 'VERB', 'NOUN', 'NOUN', 'PUNCT', 'VERB', 'DET', 'NOUN', 'ADP', 'VERB', 'NOUN', 'PRON', 'ADV', 'PRON', 'AUX', 'VERB', 'ADP', 'PUNCT', 'NOUN', 'PUNCT', 'CCONJ', 'PART', 'PUNCT'], ['NOUN', 'ADP', 'ADJ', 'NOUN', 'CCONJ', 'NOUN', 'SPACE', 'DET', 'NOUN', 'ADP', 'DET', 'NOUN', 'ADP', 'NOUN', 'PUNCT', 'CCONJ', 'NOUN', 'VERB', 'NOUN'], ['NOUN', 'PUNCT', 'NOUN', 'NOUN', 'NOUN', 'CCONJ', 'NOUN', 'NOUN'], ['PART', 'VERB', 'DET', 'PROPN', 'PROPN', 'NOUN', 'NOUN', 'ADV', 'ADP', 'PUNCT', 'VERB', 'NOUN', 'PUNCT', 'AUX', 'ADV', 'ADJ', 'PUNCT'], ['PRON', 'VERB', 'DET', 'NOUN', 'ADP', 'NOUN', 'PUNCT', 'NOUN', 'PUNCT', 'ADP', 'NOUN', 'NOUN', 'ADV', 'DET', 'NOUN', 'AUX', 'ADJ', 'CCONJ', 'ADJ', 'PUNCT', 'ADV', 'PRON', 'AUX', 'ADJ', 'DET', 'NOUN', 'AUX', 'VERB', 'ADP', 'DET', 'ADJ', 'NOUN', 'CCONJ', 'PART', 'DET', 'NOUN', 'NOUN', 'ADV', 'DET', 'NOUN', 'NOUN', 'AUX', 'PART', 'VERB'], ['PRON', 'VERB', 'DET', 'PROPN', 'PROPN', 'CCONJ', 'NOUN', 'AUX', 'ADV', 'VERB', 'ADP', 'CCONJ', 'AUX', 'ADV', 'ADJ', 'CCONJ', 'PRON', 'AUX', 'ADV', 'NOUN', 'DET', 'ADV', 'ADJ', 'NOUN', 'PUNCT', 'SPACE', 'DET', 'PROPN', 'NOUN', 'PRON', 'VERB', 'AUX', 'ADV', 'ADJ', 'NOUN', 'ADP', 'NOUN', 'DET', 'NOUN', 'ADP', 'DET', 'NOUN', 'PUNCT'], ['DET', 'DET', 'NOUN', 'ADP', 'NOUN', 'AUX', 'ADV', 'VERB', 'PUNCT', 'SPACE', 'PRON', 'AUX', 'ADV', 'VERB', 'ADJ', 'NOUN', 'VERB', 'PUNCT', 'SPACE', 'NOUN', 'ADP', 'ADJ', 'CCONJ', 'ADJ', 'NOUN', 'VERB', 'NOUN', 'PUNCT', 'SPACE', 'PRON', 'AUX', 'ADV', 'ADV', 'ADJ', 'ADP', 'DET', 'NOUN', 'PUNCT', 'ADV', 'VERB', 'ADP', 'ADJ', 'NOUN', 'ADP', 'DET', 'NOUN'], ['DET', 'PROPN', 'VERB', 'ADP', 'ADJ', 'NOUN', 'NOUN', 'ADV', 'VERB', 'ADJ', 'NOUN', 'ADP', 'ADJ', 'CCONJ', 'ADJ', 'NOUN'], ['VERB', 'ADV', 'AUX', 'VERB', 'DET', 'ADJ', 'ADP', 'DET', 'NOUN', 'PUNCT'], ['VERB', 'ADV', 'AUX', 'VERB', 'PRON', 'DET', 'NOUN', 'NOUN', 'VERB'], ['VERB', 'ADV', 'ADP', 'PRON', 'AUX', 'PUNCT', 'SCONJ', 'DET', 'NOUN', 'VERB', 'DET', 'NOUN', 'PUNCT'], ['VERB', 'ADV', 'AUX', 'ADV', 'ADP', 'VERB', 'DET', 'NOUN', 'SYM', 'NOUN', 'ADV', 'ADP', 'DET', 'ADJ', 'NOUN', 'PUNCT', 'ADP', 'PRON', 'PART', 'AUX', 'DET', 'PUNCT', 'PRON', 'VERB', 'PART', 'AUX', 'DET', 'ADJ', 'NOUN', 'CCONJ', 'DET', 'NOUN', 'PART', 'AUX', 'PRON', 'PUNCT'], ['VERB', 'INTJ', 'VERB', 'VERB', 'DET', 'ADJ', 'NOUN', 'ADP', 'NOUN', 'PUNCT', 'PROPN', 'PUNCT', 'PROPN', 'CCONJ', 'PROPN', 'DET', 'PROPN', 'ADP', 'DET', 'NOUN'], ['PRON', 'AUX', 'ADJ', 'PUNCT', 'DET', 'NOUN', 'DET', 'DET', 'NOUN', 'VERB', 'PART', 'VERB', 'ADP', 'DET', 'NOUN', 'PUNCT', 'DET', 'NOUN', 'NOUN', 'AUX', 'VERB', 'PUNCT', 'PRON', 'VERB', 'VERB', 'DET', 'NOUN', 'AUX', 'DET', 'VERB', 'VERB', 'PUNCT', 'DET', 'AUX', 'ADJ'], ['NOUN', 'NOUN', 'DET', 'AUX', 'DET', 'NOUN', 'ADP', 'DET', 'NOUN', 'PROPN', 'AUX', 'DET', 'ADJ', 'NOUN', 'PUNCT', 'SPACE', 'PRON', 'ADV', 'VERB', 'PUNCT'], ['DET', 'PROPN', 'PROPN', 'AUX', 'ADV', 'VERB', 'CCONJ', 'AUX', 'VERB', 'DET', 'ADJ', 'NOUN', 'ADP', 'DET', 'NOUN', 'PUNCT', 'PRON', 'AUX', 'ADJ', 'NOUN', 'DET', 'VERB', 'VERB', 'PUNCT', 'NOUN', 'AUX', 'AUX', 'VERB', 'PART', 'VERB', 'DET', 'NOUN', 'CCONJ', 'NOUN', 'ADP', 'DET', 'PROPN', 'PUNCT'], ['NOUN', 'AUX', 'ADV', 'ADJ', 'PUNCT', 'ADJ', 'NOUN', 'ADP', 'DET', 'NOUN', 'AUX', 'ADV', 'ADV', 'VERB', 'CCONJ', 'PRON', 'AUX', 'VERB', 'DET', 'NOUN', 'PUNCT'], ['PRON', 'VERB', 'CCONJ', 'VERB', 'ADJ', 'NOUN', 'ADP', 'NUM', 'NOUN', 'PUNCT', 'NOUN', 'NOUN', 'PUNCT', 'NOUN', 'NOUN', 'PUNCT', 'NOUN', 'CCONJ', 'NOUN', 'CCONJ', 'VERB', 'CCONJ', 'NOUN', 'PUNCT', 'DET', 'DET', 'AUX', 'ADP', 'DET', 'ADJ', 'NOUN', 'NOUN', 'PUNCT'], ['PROPN', 'ADV', 'ADV', 'VERB', 'ADP', 'NOUN', 'NOUN', 'CCONJ', 'VERB', 'DET', 'NOUN', 'ADP', 'DET', 'NOUN', 'PUNCT', 'PROPN', 'AUX', 'VERB', 'DET', 'NOUN', 'PART', 'VERB', 'DET', 'NOUN', 'ADP', 'DET', 'NOUN', 'NOUN', 'PUNCT'], ['VERB', 'ADP', 'NOUN', 'NOUN', 'CCONJ', 'NOUN', 'ADP', 'NOUN'], ['ADJ', 'NOUN', 'ADP', 'ADJ', 'NOUN', 'ADP', 'PUNCT', 'VERB', 'PUNCT', 'ADJ', 'NOUN', 'PART', 'VERB', 'ADP', 'NOUN', 'CCONJ', 'NOUN', 'PUNCT'], ['VERB', 'ADP', 'NOUN', 'NOUN', 'PUNCT', 'NOUN', 'AUX', 'VERB', 'ADJ', 'NOUN', 'SCONJ', 'ADJ', 'CCONJ', 'ADJ', 'PUNCT'], ['NOUN', 'ADP', 'ADJ', 'NOUN', 'DET', 'VERB', 'PRON', 'PART', 'VERB', 'ADV', 'ADJ', 'PUNCT', 'NOUN', 'ADP', 'ADJ', 'NOUN', 'NOUN', 'ADP', 'DET', 'NOUN', 'PUNCT', 'NOUN', 'NOUN', 'ADP', 'DET', 'VERB', 'NOUN', 'PUNCT'], ['ADJ', 'ADJ', 'NOUN', 'ADP', 'NOUN', 'NOUN', 'NOUN', 'PUNCT', 'ADJ', 'CCONJ', 'ADJ', 'PUNCT', 'ADJ', 'NOUN', 'VERB', 'CCONJ', 'VERB', 'ADP', 'NOUN', 'NOUN'], ['DET', 'NOUN', 'ADV', 'ADP', 'NOUN', 'NOUN', 'ADP', 'DET', 'NOUN', 'NOUN', 'PUNCT', 'ADP', 'NOUN', 'ADP', 'NOUN', 'NOUN', 'PUNCT', 'PRON', 'VERB', 'DET', 'NOUN', 'ADP', 'NOUN', 'NOUN', 'NOUN', 'PUNCT', 'CCONJ', 'VERB', 'PRON', 'AUX', 'ADV', 'VERB', 'ADP', 'NOUN', 'CCONJ', 'NOUN', 'NOUN', 'NOUN', 'DET', 'VERB', 'NOUN', 'NOUN'], ['ADJ', 'CCONJ', 'ADJ', 'NOUN', 'PROPN', 'NOUN', 'VERB', 'ADJ', 'NOUN', 'CCONJ', 'VERB', 'ADP', 'NOUN', 'ADV', 'PUNCT'], ['PRON', 'VERB', 'DET', 'NOUN', 'AUX', 'VERB', 'ADP', 'NOUN', 'ADP', 'ADJ', 'NOUN', 'CCONJ', 'NOUN', 'NOUN', 'PUNCT'], ['PRON', 'AUX', 'ADV', 'ADJ', 'PART', 'VERB', 'CCONJ', 'PRON', 'VERB', 'SCONJ', 'DET', 'ADJ', 'NOUN', 'PUNCT', 'NOUN', 'VERB', 'VERB', 'ADV', 'ADJ', 'NOUN', 'DET', 'VERB', 'VERB', 'VERB', 'DET', 'ADJ', 'CCONJ', 'NOUN', 'NOUN', 'NOUN', 'PUNCT'], ['PRON', 'PART', 'NOUN', 'ADP', 'DET', 'ADJ', 'NOUN', 'AUX', 'ADJ', 'PUNCT'], ['PRON', 'VERB', 'DET', 'NOUN', 'PRON', 'VERB', 'PART', 'VERB', 'ADP', 'DET', 'NOUN'], ['DET', 'DET', 'NOUN', 'AUX', 'ADJ', 'ADP', 'DET', 'NOUN', 'NOUN', 'CCONJ', 'DET', 'NOUN', 'ADP', 'DET', 'NOUN', 'VERB', 'ADP', 'DET', 'NOUN', 'PUNCT'], ['ADJ', 'NOUN', 'AUX', 'VERB', 'ADP', 'NOUN', 'CCONJ', 'VERB', 'ADJ', 'NOUN'], ['NOUN', 'ADP', 'DET', 'NOUN', 'ADP', 'VERB', 'NOUN'], ['ADV', 'ADP', 'DET', 'NOUN', 'NOUN'], ['ADV', 'VERB', 'PROPN', 'ADP', 'PROPN', 'CCONJ', 'PROPN', 'PROPN', 'AUX', 'DET', 'ADJ', 'NOUN', 'ADP', 'NOUN', 'NOUN', 'CCONJ', 'NOUN', 'PUNCT'], ['DET', 'ADJ', 'NOUN', 'CCONJ', 'NOUN', 'ADP', 'VERB', 'DET', 'NOUN', 'ADP', 'DET', 'ADJ', 'NOUN', 'NOUN'], ['SCONJ', 'AUX', 'NOUN', 'NOUN', 'VERB'], ['PRON', 'VERB', 'ADV', 'PART', 'VERB', 'NOUN', 'CCONJ', 'VERB', 'NOUN', 'ADP', 'ADJ', 'NOUN', 'PUNCT'], ['VERB', 'ADP', 'NOUN', 'VERB', 'ADP', 'NOUN', 'AUX', 'AUX', 'VERB', 'ADP', 'NOUN', 'CCONJ', 'PRON', 'AUX', 'VERB', 'PART', 'VERB', 'DET', 'ADP', 'VERB', 'ADV', 'PUNCT'], ['ADJ', 'NOUN', 'DET', 'VERB', 'ADV', 'ADV'], ['DET', 'NOUN', 'AUX', 'ADJ', 'CCONJ', 'AUX', 'VERB', 'PART', 'VERB'], ['PRON', 'AUX', 'ADJ', 'NOUN', 'PART', 'VERB', 'SCONJ', 'DET', 'ADP', 'PRON', 'PUNCT', 'NOUN', 'PUNCT', 'NOUN', 'AUX', 'VERB', 'ADJ', 'CCONJ', 'ADJ', 'NOUN', 'NOUN', 'CCONJ', 'VERB', 'PART', 'VERB', 'DET', 'NOUN', 'DET', 'AUX', 'VERB', 'ADP', 'ADJ', 'NOUN', 'NOUN', 'NOUN', 'ADP', 'NOUN', 'PROPN', 'VERB', 'DET', 'ADJ', 'NOUN', 'PUNCT'], ['DET', 'NOUN', 'AUX', 'ADV', 'VERB', 'ADP', 'ADP', 'PRON', 'CCONJ', 'PRON', 'VERB', 'PRON', 'SCONJ', 'ADP', 'DET', 'ADJ', 'NOUN', 'CCONJ', 'DET', 'NOUN', 'DET', 'VERB', 'DET', 'DET', 'NOUN', 'ADV', 'ADP', 'DET', 'NOUN', 'PUNCT'], ['PRON', 'AUX', 'ADV', 'NOUN', 'VERB', 'CCONJ', 'VERB', 'PART', 'VERB', 'DET', 'NOUN', 'ADV', 'ADP', 'PRON', 'PRON', 'AUX', 'PUNCT', 'SCONJ', 'PRON', 'VERB', 'DET', 'NOUN', 'ADJ', 'CCONJ', 'VERB', 'PUNCT', 'PRON', 'VERB', 'DET', 'NOUN', 'ADP', 'DET', 'NOUN', 'PUNCT', 'DET', 'ADJ', 'CCONJ', 'ADJ', 'NOUN', 'PUNCT', 'DET', 'NOUN', 'ADP', 'NOUN', 'VERB', 'ADP', 'NOUN', 'PUNCT'], ['NOUN', 'NOUN', 'AUX', 'ADP', 'DET', 'NOUN', 'ADP', 'DET', 'NOUN', 'VERB', 'NOUN', 'CCONJ', 'AUX', 'VERB', 'ADV', 'PART', 'VERB', 'NOUN'], ['PRON', 'VERB', 'ADV', 'ADJ', 'ADP', 'NOUN', 'ADP', 'DET', 'PROPN', 'PUNCT', 'DET', 'PROPN', 'PART', 'PROPN', 'CCONJ', 'NOUN', 'VERB', 'ADV', 'ADJ', 'PUNCT', 'PRON', 'VERB', 'ADJ', 'PART', 'VERB', 'ADP', 'SPACE', 'PROPN', 'PROPN', 'NOUN', 'PUNCT', 'PROPN', 'PUNCT', 'PROPN', 'PROPN', 'CCONJ', 'PROPN', 'VERB', 'ADP', 'NOUN', 'PUNCT'], ['PRON', 'VERB', 'ADP', 'DET', 'NOUN', 'CCONJ', 'PROPN', 'PROPN', 'CCONJ', 'DET', 'PROPN', 'PROPN', 'PROPN', 'DET', 'VERB', 'DET', 'NOUN', 'PUNCT'], ['ADJ', 'NOUN', 'SCONJ', 'DET', 'NOUN', 'ADP', 'PRON', 'AUX', 'DET', 'ADJ', 'NOUN', 'DET', 'VERB', 'ADV', 'ADV', 'ADV', 'PUNCT', 'NOUN', 'NOUN', 'NOUN', 'PUNCT', 'VERB', 'ADP', 'PUNCT', 'NOUN', 'PUNCT', 'PUNCT', 'CCONJ', 'DET', 'ADP', 'DET', 'NOUN', 'NOUN', 'PUNCT'], ['PRON', 'AUX', 'ADJ', 'SCONJ', 'DET', 'NOUN', 'AUX', 'VERB', 'PART', 'AUX', 'NOUN', 'ADJ', 'ADP', 'VERB', 'ADJ', 'NOUN', 'NOUN', 'ADP', 'NOUN'], ['INTJ', 'VERB', 'DET', 'ADJ', 'ADJ', 'NOUN', 'NOUN', 'PART', 'VERB', 'ADJ', 'NOUN', 'ADP', 'NOUN', 'PRON', 'VERB', 'VERB', 'PART', 'VERB', 'PUNCT', 'PRON', 'AUX', 'DET', 'VERB', 'NOUN', 'ADP', 'PRON', 'CCONJ', 'PRON', 'VERB', 'DET', 'ADJ', 'NOUN', 'CCONJ', 'NOUN', 'PUNCT', 'PUNCT', 'INTJ', 'VERB', 'ADP', 'VERB', 'NOUN', 'PART', 'NOUN', 'CCONJ', 'NOUN', 'DET', 'NOUN'], ['PRON', 'VERB', 'ADV', 'ADJ', 'ADP', 'DET', 'PROPN', 'PUNCT', 'ADJ', 'ADV', 'CCONJ', 'VERB', 'SPACE', 'DET', 'NOUN', 'VERB', 'PRON', 'ADJ', 'ADV', 'CCONJ', 'VERB', 'PROPN'], ['PROPN', 'NOUN', 'VERB', 'INTJ', 'PRON', 'VERB'], ['NOUN', 'AUX', 'VERB', 'ADP', 'NOUN', 'ADP', 'NOUN', 'PART', 'VERB', 'NOUN', 'NOUN', 'VERB', 'NOUN', 'VERB', 'DET', 'NOUN', 'ADP', 'PRON', 'PUNCT'], ['PRON', 'VERB', 'ADJ', 'NOUN', 'ADV', 'ADV', 'NOUN', 'NOUN', 'ADV', 'ADJ', 'VERB', 'NUM', 'NOUN', 'ADV', 'PUNCT'], ['ADJ', 'NOUN', 'AUX', 'VERB', 'SPACE', 'PROPN', 'AUX', 'VERB', 'ADV', 'SPACE', 'NOUN', 'NOUN', 'AUX', 'AUX', 'VERB', 'NOUN', 'ADP', 'NOUN', 'SPACE', 'NOUN', 'AUX', 'AUX', 'VERB', 'ADV'], ['DET', 'NOUN', 'AUX', 'VERB', 'ADV', 'ADV', 'ADP', 'VERB', 'DET', 'ADJ', 'NOUN', 'PUNCT', 'PROPN', 'AUX', 'VERB', 'ADP', 'ADV', 'PUNCT', 'NOUN', 'AUX', 'VERB', 'PUNCT'], ['PRON', 'VERB', 'VERB', 'PART', 'VERB', 'ADV', 'AUX', 'PART', 'VERB', 'DET', 'NOUN', 'ADJ', 'CCONJ', 'PART', 'VERB', 'ADJ', 'NOUN', 'ADP', 'DET', 'NOUN', 'PUNCT'], ['ADP', 'DET', 'NOUN', 'PROPN', 'PUNCT', 'SPACE', 'PROPN', 'PUNCT', 'PROPN', 'VERB', 'PUNCT', 'PROPN', 'PRON', 'PRON', 'VERB', 'VERB'], ['PRON', 'VERB', 'AUX', 'DET', 'NOUN', 'ADP', 'PUNCT', 'NOUN', 'PUNCT'], ['PUNCT', 'NOUN', 'PUNCT', 'PROPN', 'AUX', 'VERB', 'ADJ', 'NOUN', 'ADP', 'DET', 'NOUN', 'PUNCT', 'ADV', 'DET', 'NOUN', 'AUX', 'ADJ', 'ADP', 'NOUN', 'ADP', 'PRON', 'PUNCT'], ['PRON', 'VERB', 'VERB', 'NOUN', 'NOUN', 'ADP', 'DET', 'PROPN', 'NOUN', 'ADP', 'PROPN', 'ADJ', 'NOUN', 'ADP', 'DET', 'NOUN', 'CCONJ', 'PROPN', 'PART', 'VERB', 'DET', 'ADJ', 'NOUN', 'ADP', 'PRON'], ['NOUN', 'ADP', 'NOUN', 'NOUN', 'CCONJ', 'DET', 'NOUN', 'ADP', 'NOUN', 'PUNCT'], ['VERB', 'DET', 'NOUN', 'ADP', 'DET', 'ADJ', 'NOUN', 'PROPN', 'VERB', 'VERB', 'SCONJ', 'PRON', 'AUX', 'ADP', 'DET', 'ADJ', 'NOUN', 'CCONJ', 'ADP', 'ADJ', 'NOUN', 'PUNCT'], ['DET', 'ADJ', 'NOUN'], ['ADP', 'DET', 'NOUN', 'PUNCT', 'PRON', 'AUX', 'ADV', 'ADJ'], ['PRON', 'VERB', 'DET', 'ADJ', 'NOUN', 'PART', 'VERB', 'ADP', 'NOUN', 'NOUN', 'PUNCT', 'PRON', 'VERB', 'DET', 'ADJ', 'NOUN', 'PUNCT'], ['PRON', 'ADV', 'VERB', 'CCONJ', 'VERB', 'DET', 'ADJ', 'PART', 'VERB', 'NOUN', 'NOUN'], ['ADP', 'PRON', 'VERB', 'ADP', 'PUNCT', 'NOUN', 'PUNCT', 'AUX', 'ADV', 'ADP', 'AUX', 'ADJ', 'CCONJ', 'ADJ', 'ADP', 'PROPN', 'PROPN', 'PUNCT', 'ADV', 'VERB', 'PART', 'VERB', 'ADP', 'ADJ', 'NOUN', 'ADP', 'NOUN', 'PART', 'VERB', 'NOUN', 'ADP', 'DET', 'DET', 'NOUN', 'PUNCT', 'DET', 'AUX', 'ADJ', 'ADP', 'VERB', 'NOUN', 'ADP', 'DET', 'NOUN', 'CCONJ', 'PROPN', 'VERB', 'PUNCT'], ['PUNCT', 'NOUN', 'PUNCT', 'AUX', 'PROPN', 'PROPN', 'PUNCT', 'VERB', 'NOUN', 'ADP', 'PRON', 'PART', 'NOUN', 'PUNCT', 'VERB', 'NOUN', 'ADJ', 'NOUN', 'PUNCT', 'VERB', 'NOUN', 'ADP', 'NOUN', 'NOUN', 'PUNCT', 'ADV', 'PUNCT', 'PUNCT', 'NOUN', 'PUNCT', 'AUX', 'NOUN', 'ADJ', 'PUNCT', 'NOUN', 'AUX', 'ADJ', 'PUNCT', 'NOUN', 'CCONJ', 'NOUN', 'PUNCT'], ['PRON', 'AUX', 'VERB', 'NOUN', 'ADV', 'ADV', 'PUNCT', 'PART', 'ADV', 'NOUN', 'PUNCT', 'SCONJ', 'DET', 'NOUN', 'VERB', 'PART', 'VERB', 'PUNCT', 'CCONJ', 'NUM', 'NOUN', 'VERB', 'DET', 'NOUN', 'NOUN', 'PUNCT', 'CCONJ', 'SCONJ', 'PRON', 'AUX', 'PART', 'VERB', 'PUNCT', 'PRON', 'VERB', 'DET', 'NOUN', 'PUNCT'], ['PRON', 'AUX', 'ADJ', 'ADP', 'DET', 'NOUN', 'NOUN'], ['PRON', 'VERB', 'SCONJ', 'PRON', 'AUX', 'AUX', 'SCONJ', 'NOUN', 'DET', 'NOUN', 'PART', 'VERB', 'CCONJ', 'DET', 'ADJ', 'NOUN', 'DET', 'VERB', 'AUX', 'SYM', 'AUX', 'VERB', 'AUX', 'ADP', 'NOUN', 'ADP', 'PRON', 'AUX', 'VERB', 'PART', 'VERB', 'PROPN', 'PUNCT', 'PROPN', 'NOUN', 'PUNCT', 'NOUN', 'PUNCT', 'PROPN', 'X', 'PUNCT'], ['DET', 'NOUN', 'VERB', 'ADP', 'PROPN', 'PROPN', 'PUNCT', 'PROPN', 'CCONJ', 'PROPN', 'AUX', 'ADV', 'VERB', 'ADV', 'PUNCT'], ['PUNCT', 'PROPN', 'NOUN', 'AUX', 'DET', 'ADJ', 'NOUN', 'ADP', 'PUNCT', 'NOUN', 'PUNCT'], ['NOUN', 'CCONJ', 'ADJ', 'NOUN', 'ADP', 'NOUN', 'NOUN', 'ADP', 'DET', 'ADV', 'VERB', 'SYM', 'VERB', 'NOUN'], ['VERB', 'ADV', 'PUNCT', 'VERB', 'NOUN', 'CCONJ', 'ADJ', 'NOUN', 'PUNCT'], ['PRON', 'AUX', 'VERB', 'DET', 'NOUN', 'ADP', 'NOUN', 'CCONJ', 'VERB', 'PART', 'VERB', 'SCONJ', 'ADP', 'NOUN', 'NOUN'], ['SPACE', 'PROPN', 'VERB', 'SPACE', 'NOUN', 'PUNCT', 'SPACE', 'NOUN', 'VERB', 'NOUN', 'PROPN', 'VERB', 'ADV', 'PROPN', 'PROPN', 'SPACE', 'NOUN', 'NOUN', 'NOUN', 'VERB', 'VERB', 'ADV', 'ADJ', 'NOUN', 'ADP', 'PROPN', 'VERB', 'NOUN', 'CCONJ', 'ADV', 'VERB', 'DET', 'NOUN', 'PART', 'VERB', 'DET', 'NOUN'], ['DET', 'NOUN', 'NOUN', 'NOUN', 'AUX', 'VERB', 'PRON', 'PART', 'VERB', 'ADJ', 'NOUN', 'NOUN'], ['DET', 'NOUN', 'AUX', 'VERB', 'DET', 'NOUN', 'SCONJ', 'ADP', 'DET', 'ADJ', 'CCONJ', 'SPACE', 'VERB', 'NOUN', 'PRON', 'AUX', 'ADV', 'VERB', 'ADP', 'DET', 'NOUN', 'ADV', 'ADV', 'SCONJ', 'NOUN'], ['PRON', 'VERB', 'SCONJ', 'PRON', 'AUX', 'DET', 'NOUN', 'PART', 'VERB', 'ADP', 'DET', 'NOUN', 'NOUN', 'PUNCT', 'PRON', 'VERB', 'PART', 'VERB', 'VERB', 'NOUN', 'PUNCT', 'VERB', 'NOUN', 'ADP', 'DET', 'PROPN', 'PROPN', 'PROPN', 'PUNCT'], ['PUNCT', 'NOUN', 'PUNCT', 'AUX', 'DET', 'ADJ', 'NOUN'], ['DET', 'NOUN', 'CCONJ', 'NOUN', 'ADP', 'NOUN', 'ADP', 'NOUN', 'PART', 'VERB', 'NOUN', 'NOUN'], ['NOUN', 'NOUN', 'CCONJ', 'NOUN', 'NOUN'], ['PROPN', 'CCONJ', 'NOUN', 'ADP', 'NOUN'], ['ADJ', 'NOUN', 'ADP', 'NOUN', 'PART', 'VERB', 'PROPN', 'PROPN', 'CCONJ', 'PROPN'], ['DET', 'AUX', 'NUM', 'NOUN', 'DET', 'PRON', 'ADV', 'VERB', 'PRON', 'ADV', 'VERB', 'PART', 'VERB', 'NOUN', 'ADJ', 'CCONJ', 'ADP', 'DET', 'ADJ', 'NOUN', 'PRON', 'SCONJ', 'DET', 'NOUN', 'NOUN', 'ADP', 'DET', 'ADJ', 'PART', 'AUX', 'DET', 'NOUN', 'VERB', 'ADV', 'CCONJ', 'ADV', 'SCONJ', 'PRON', 'AUX', 'PRON', 'VERB', 'VERB', 'SCONJ', 'NOUN', 'NOUN', 'ADP', 'DET', 'NOUN', 'NOUN', 'PUNCT'], ['PRON', 'AUX', 'ADV', 'ADJ', 'ADP', 'VERB', 'ADJ', 'NOUN', 'NOUN', 'PUNCT'], ['DET', 'NOUN', 'SCONJ', 'DET', 'ADJ', 'VERB', 'ADV', 'ADV', 'ADV', 'PUNCT', 'DET', 'NOUN', 'VERB', 'ADP', 'ADV', 'CCONJ', 'AUX', 'VERB', 'ADP', 'VERB', 'ADV', 'PART', 'VERB', 'DET', 'NOUN', 'ADP', 'DET', 'NOUN', 'PART', 'VERB', 'NOUN', 'ADV', 'CCONJ', 'ADV', 'PUNCT'], ['PRON', 'AUX', 'VERB', 'PART', 'VERB', 'ADV', 'ADP', 'NOUN', 'CCONJ', 'PART', 'NOUN', 'ADV', 'ADV', 'SCONJ', 'DET', 'NOUN', 'NOUN', 'AUX', 'VERB', 'PUNCT'], ['ADJ', 'ADJ', 'NOUN', 'ADP', 'ADJ', 'NOUN', 'PART', 'VERB', 'DET', 'NOUN', 'NOUN'], ['VERB', 'ADV', 'AUX', 'VERB', 'DET', 'ADP', 'DET', 'NOUN', 'ADP', 'DET', 'NOUN', 'ADV', 'NOUN', 'VERB', 'VERB', 'ADP', 'NOUN', 'PRON', 'VERB', 'PUNCT', 'ADJ', 'ADP', 'DET', 'NOUN', 'PRON', 'VERB'], ['PRON', 'AUX', 'VERB', 'ADV', 'AUX', 'DET', 'NOUN', 'PART', 'NOUN', 'PUNCT', 'PUNCT', 'NOUN', 'PUNCT', 'NOUN', 'AUX', 'ADV', 'VERB', 'NOUN', 'ADP', 'VERB', 'ADV', 'ADP', 'NOUN', 'NOUN', 'ADP', 'ADV', 'VERB', 'NOUN', 'NOUN', 'CCONJ', 'NOUN', 'ADP', 'NOUN', 'VERB', 'PUNCT']]\n"
    }
   ],
   "source": [
    "i = 0\n",
    "pos_tags = []\n",
    "for row in ld_q1.iterrows():\n",
    "    doc = nlp(row[1][2])\n",
    "    temp = []\n",
    "    for token in doc:\n",
    "        temp.append(token.pos_)\n",
    "    pos_tags.append(temp)\n",
    "    i += 1\n",
    "    if i == 100: break\n",
    "print(pos_tags)"
   ]
  },
  {
   "cell_type": "code",
   "execution_count": null,
   "metadata": {},
   "outputs": [],
   "source": []
  }
 ],
 "metadata": {
  "kernelspec": {
   "display_name": "Python 3",
   "language": "python",
   "name": "python3"
  },
  "language_info": {
   "codemirror_mode": {
    "name": "ipython",
    "version": 3
   },
   "file_extension": ".py",
   "mimetype": "text/x-python",
   "name": "python",
   "nbconvert_exporter": "python",
   "pygments_lexer": "ipython3",
   "version": "3.7.4"
  }
 },
 "nbformat": 4,
 "nbformat_minor": 2
}