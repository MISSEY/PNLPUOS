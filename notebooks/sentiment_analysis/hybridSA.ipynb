{
 "cells": [
  {
   "cell_type": "code",
   "execution_count": 2,
   "metadata": {},
   "outputs": [],
   "source": [
    "# import necessary libraries\n",
    "import pandas as pd"
   ]
  },
  {
   "cell_type": "code",
   "execution_count": 6,
   "metadata": {},
   "outputs": [
    {
     "data": {
      "text/html": [
       "<div>\n",
       "<style scoped>\n",
       "    .dataframe tbody tr th:only-of-type {\n",
       "        vertical-align: middle;\n",
       "    }\n",
       "\n",
       "    .dataframe tbody tr th {\n",
       "        vertical-align: top;\n",
       "    }\n",
       "\n",
       "    .dataframe thead th {\n",
       "        text-align: right;\n",
       "    }\n",
       "</style>\n",
       "<table border=\"1\" class=\"dataframe\">\n",
       "  <thead>\n",
       "    <tr style=\"text-align: right;\">\n",
       "      <th></th>\n",
       "      <th>Report Grouping</th>\n",
       "      <th>Question Text</th>\n",
       "      <th>Comments</th>\n",
       "    </tr>\n",
       "  </thead>\n",
       "  <tbody>\n",
       "    <tr>\n",
       "      <th>0</th>\n",
       "      <td>Large Department</td>\n",
       "      <td>Please tell us what is working well.</td>\n",
       "      <td>we do what our customers need, we communicate ...</td>\n",
       "    </tr>\n",
       "    <tr>\n",
       "      <th>1</th>\n",
       "      <td>Large Department</td>\n",
       "      <td>Please tell us what is working well.</td>\n",
       "      <td>Customs business development continues to grow...</td>\n",
       "    </tr>\n",
       "    <tr>\n",
       "      <th>2</th>\n",
       "      <td>Large Department</td>\n",
       "      <td>Please tell us what is working well.</td>\n",
       "      <td>I think the team work hard, are committed to c...</td>\n",
       "    </tr>\n",
       "    <tr>\n",
       "      <th>3</th>\n",
       "      <td>Large Department</td>\n",
       "      <td>Please tell us what is working well.</td>\n",
       "      <td>Overall working towards a customer centric env...</td>\n",
       "    </tr>\n",
       "    <tr>\n",
       "      <th>4</th>\n",
       "      <td>Large Department</td>\n",
       "      <td>Please tell us what is working well.</td>\n",
       "      <td>Customer centricity is a growing culture in th...</td>\n",
       "    </tr>\n",
       "  </tbody>\n",
       "</table>\n",
       "</div>"
      ],
      "text/plain": [
       "    Report Grouping                         Question Text  \\\n",
       "0  Large Department  Please tell us what is working well.   \n",
       "1  Large Department  Please tell us what is working well.   \n",
       "2  Large Department  Please tell us what is working well.   \n",
       "3  Large Department  Please tell us what is working well.   \n",
       "4  Large Department  Please tell us what is working well.   \n",
       "\n",
       "                                            Comments  \n",
       "0  we do what our customers need, we communicate ...  \n",
       "1  Customs business development continues to grow...  \n",
       "2  I think the team work hard, are committed to c...  \n",
       "3  Overall working towards a customer centric env...  \n",
       "4  Customer centricity is a growing culture in th...  "
      ]
     },
     "execution_count": 6,
     "metadata": {},
     "output_type": "execute_result"
    }
   ],
   "source": [
    "# read in data\n",
    "# currently reading in full dataset; small batch of data also available\n",
    "df = pd.read_csv(\"../../data/pnlp_data_en.csv\", sep=\";\")\n",
    "df.head()"
   ]
  },
  {
   "cell_type": "code",
   "execution_count": null,
   "metadata": {},
   "outputs": [],
   "source": [
    "# @TODO: grouping data in \"Large Department\" and \"Small Department\" and in Questions each"
   ]
  }
 ],
 "metadata": {
  "kernelspec": {
   "display_name": "Python 3",
   "language": "python",
   "name": "python3"
  },
  "language_info": {
   "codemirror_mode": {
    "name": "ipython",
    "version": 3
   },
   "file_extension": ".py",
   "mimetype": "text/x-python",
   "name": "python",
   "nbconvert_exporter": "python",
   "pygments_lexer": "ipython3",
   "version": "3.7.5"
  }
 },
 "nbformat": 4,
 "nbformat_minor": 2
}
